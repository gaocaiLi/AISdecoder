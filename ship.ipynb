{
 "cells": [
  {
   "cell_type": "code",
   "execution_count": 8,
   "metadata": {},
   "outputs": [
    {
     "name": "stdout",
     "output_type": "stream",
     "text": [
      "Processing ./libais-0.13.tar.gz\n",
      "  Requirement already satisfied (use --upgrade to upgrade): libais==0.13 from file:///Users/ninastijepovic/Desktop/SHIPS/libais-0.13.tar.gz in /Users/ninastijepovic/anaconda2/lib/python2.7/site-packages\n",
      "Building wheels for collected packages: libais\n",
      "  Running setup.py bdist_wheel for libais ... \u001b[?25ldone\n",
      "\u001b[?25h  Stored in directory: /Users/ninastijepovic/Library/Caches/pip/wheels/9c/b7/82/918858ae0a2c2f3e898de59a5dd3e68335ed6a324aa45b2bcc\n",
      "Successfully built libais\n",
      "\u001b[33mYou are using pip version 9.0.1, however version 9.0.3 is available.\n",
      "You should consider upgrading via the 'pip install --upgrade pip' command.\u001b[0m\n"
     ]
    }
   ],
   "source": [
    "!pip install ./libais-0.13.tar.gz"
   ]
  },
  {
   "cell_type": "code",
   "execution_count": 9,
   "metadata": {},
   "outputs": [],
   "source": [
    "import ais"
   ]
  },
  {
   "cell_type": "code",
   "execution_count": null,
   "metadata": {},
   "outputs": [],
   "source": []
  }
 ],
 "metadata": {
  "kernelspec": {
   "display_name": "Python 3",
   "language": "python",
   "name": "python3"
  },
  "language_info": {
   "codemirror_mode": {
    "name": "ipython",
    "version": 2
   },
   "file_extension": ".py",
   "mimetype": "text/x-python",
   "name": "python",
   "nbconvert_exporter": "python",
   "pygments_lexer": "ipython2",
   "version": "2.7.14"
  }
 },
 "nbformat": 4,
 "nbformat_minor": 2
}
