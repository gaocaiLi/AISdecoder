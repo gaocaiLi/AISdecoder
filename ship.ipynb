{
 "cells": [
  {
   "cell_type": "code",
   "execution_count": 2,
   "metadata": {},
   "outputs": [
    {
     "name": "stdout",
     "output_type": "stream",
     "text": [
      "Processing ./libais-0.13.tar.gz\n",
      "  Requirement already satisfied (use --upgrade to upgrade): libais==0.13 from file:///Users/ninastijepovic/Desktop/SHIPS/libais-0.13.tar.gz in /Users/ninastijepovic/anaconda2/lib/python2.7/site-packages\n",
      "Building wheels for collected packages: libais\n",
      "  Running setup.py bdist_wheel for libais ... \u001b[?25ldone\n",
      "\u001b[?25h  Stored in directory: /Users/ninastijepovic/Library/Caches/pip/wheels/9c/b7/82/918858ae0a2c2f3e898de59a5dd3e68335ed6a324aa45b2bcc\n",
      "Successfully built libais\n",
      "\u001b[33mYou are using pip version 9.0.1, however version 9.0.3 is available.\n",
      "You should consider upgrading via the 'pip install --upgrade pip' command.\u001b[0m\n"
     ]
    }
   ],
   "source": [
    "!pip install ./libais-0.13.tar.gz"
   ]
  },
  {
   "cell_type": "code",
   "execution_count": 6,
   "metadata": {},
   "outputs": [
    {
     "name": "stdout",
     "output_type": "stream",
     "text": [
      "\n",
      "Please wait a moment while I gather a list of all available modules...\n",
      "\n"
     ]
    },
    {
     "name": "stderr",
     "output_type": "stream",
     "text": [
      "/Users/ninastijepovic/anaconda2/lib/python2.7/site-packages/IPython/kernel/__init__.py:13: ShimWarning: The `IPython.kernel` package has been deprecated since IPython 4.0.You should import from ipykernel or jupyter_client instead.\n",
      "  \"You should import from ipykernel or jupyter_client instead.\", ShimWarning)\n",
      "WARNING: AstropyDeprecationWarning: The astropy.vo.samp module has now been moved to astropy.samp [astropy.vo.samp]\n",
      "/Users/ninastijepovic/anaconda2/lib/python2.7/site-packages/h5py/__init__.py:36: FutureWarning: Conversion of the second argument of issubdtype from `float` to `np.floating` is deprecated. In future, it will be treated as `np.float64 == np.dtype(float).type`.\n",
      "  from ._conv import register_converters as _register_converters\n",
      "/Users/ninastijepovic/anaconda2/lib/python2.7/site-packages/odo/backends/pandas.py:102: FutureWarning: pandas.tslib is deprecated and will be removed in a future version.\n",
      "You can access NaTType as type(pandas.NaT)\n",
      "  @convert.register((pd.Timestamp, pd.Timedelta), (pd.tslib.NaTType, type(None)))\n",
      "/Users/ninastijepovic/anaconda2/lib/python2.7/site-packages/nltk/twitter/__init__.py:20: UserWarning: The twython library has not been installed. Some functionality from the twitter package will not be available.\n",
      "  warnings.warn(\"The twython library has not been installed. \"\n",
      "/Users/ninastijepovic/anaconda2/lib/python2.7/site-packages/skimage/viewer/utils/core.py:10: UserWarning: Recommended matplotlib backend is `Agg` for full skimage.viewer functionality.\n",
      "  warn(\"Recommended matplotlib backend is `Agg` for full \"\n",
      "/Users/ninastijepovic/anaconda2/lib/python2.7/site-packages/qtawesome/iconic_font.py:268: UserWarning: You need to have a running QApplication to use QtAwesome!\n",
      "  warnings.warn(\"You need to have a running \"\n",
      "/Users/ninastijepovic/anaconda2/lib/python2.7/site-packages/statsmodels/compat/pandas.py:56: FutureWarning: The pandas.core.datetools module is deprecated and will be removed in a future version. Please use the pandas.tseries module instead.\n",
      "  from pandas.core import datetools\n"
     ]
    },
    {
     "name": "stdout",
     "output_type": "stream",
     "text": [
      "Audio_mac           asyncore            hmac                qtconsole\n",
      "BaseHTTPServer      atexit              hotshot             qtpy\n",
      "Bastion             attr                html5lib            quopri\n",
      "CGIHTTPServer       audiodev            htmlentitydefs      random\n",
      "Canvas              audioop             htmllib             re\n",
      "Carbon              autoGIL             httplib             readline\n",
      "CodeWarrior         autoreload          ic                  repr\n",
      "ColorPicker         babel               icglue              requests\n",
      "ConfigParser        backports           icopen              resource\n",
      "Cookie              backports_abc       idlelib             rexec\n",
      "Crypto              base64              idna                rfc822\n",
      "Cython              bdb                 ihooks              rlcompleter\n",
      "Dialog              bgenlocations       imageio             rmagic\n",
      "DocXMLRPCServer     binascii            imagesize           robotparser\n",
      "EasyDialogs         binhex              imaplib             rope\n",
      "Explorer            binstar_client      imghdr              ruamel_yaml\n",
      "FileDialog          bisect              imp                 runpy\n",
      "Finder              bitarray            importlib           scandir\n",
      "FixTk               bkcharts            imputil             sched\n",
      "FrameWork           blaze               inspect             scipy\n",
      "HTMLParser          bleach              io                  scripts\n",
      "IN                  bokeh               ipaddress           seaborn\n",
      "IPython             boto                ipykernel           select\n",
      "MacOS               bottleneck          ipykernel_launcher  send2trash\n",
      "MimeWriter          brain_attrs         ipython_genutils    sets\n",
      "MiniAEFrame         brain_builtin_inference ipywidgets          setuptools\n",
      "Nav                 brain_collections   isort               sgmllib\n",
      "Netscape            brain_curses        itertools           sha\n",
      "OSATerminology      brain_dateutil      itsdangerous        shelve\n",
      "OpenSSL             brain_fstrings      jdcal               shlex\n",
      "PIL                 brain_functools     jedi                shutil\n",
      "PixMapWrapper       brain_gi            jinja2              signal\n",
      "PyQt5               brain_hashlib       json                simplegeneric\n",
      "Queue               brain_io            jsonschema          singledispatch\n",
      "ScrolledText        brain_mechanize     jupyter             singledispatch_helpers\n",
      "SimpleDialog        brain_multiprocessing jupyter_client      sip\n",
      "SimpleHTTPServer    brain_namedtuple_enum jupyter_console     sipconfig\n",
      "SimpleXMLRPCServer  brain_nose          jupyter_core        sipdistutils\n",
      "SocketServer        brain_numpy         jupyterlab          site\n",
      "StdSuites           brain_pkg_resources jupyterlab_launcher six\n",
      "StringIO            brain_pytest        keyword             skimage\n",
      "SystemEvents        brain_qt            lazy_object_proxy   sklearn\n",
      "Terminal            brain_re            lib2to3             smtpd\n",
      "Tix                 brain_six           linecache           smtplib\n",
      "Tkconstants         brain_ssl           llvmlite            sndhdr\n",
      "Tkdnd               brain_subprocess    locale              snowballstemmer\n",
      "Tkinter             brain_threading     locket              socket\n",
      "UserDict            brain_typing        logging             socks\n",
      "UserList            brain_uuid          lxml                sockshandler\n",
      "UserString          bs4                 macerrors           sortedcollections\n",
      "_AE                 bsddb               macostools          sortedcontainers\n",
      "_AH                 bsddb185            macpath             sphinx\n",
      "_App                buildtools          macresource         sphinxcontrib\n",
      "_CF                 bundlebuilder       mactypes            spyder\n",
      "_CG                 bz2                 macurl2path         spyder_breakpoints\n",
      "_CarbonEvt          cPickle             mailbox             spyder_io_dcm\n",
      "_Cm                 cProfile            mailcap             spyder_io_hdf5\n",
      "_Ctl                cStringIO           markupbase          spyder_profiler\n",
      "_Dlg                calendar            markupsafe          spyder_pylint\n",
      "_Drag               cdecimal            marshal             sqlalchemy\n",
      "_Evt                certifi             math                sqlite3\n",
      "_File               cffi                matplotlib          sre\n",
      "_Fm                 cfmfile             mccabe              sre_compile\n",
      "_Folder             cgi                 md5                 sre_constants\n",
      "_Help               cgitb               mhlib               sre_parse\n",
      "_IBCarbon           chardet             mimetools           ssl\n",
      "_Icn                chunk               mimetypes           stat\n",
      "_LWPCookieJar       click               mimify              statsmodels\n",
      "_Launch             cloudpickle         mistune             statvfs\n",
      "_List               clyent              mkl                 storemagic\n",
      "_Menu               cmath               mmap                string\n",
      "_Mlte               cmd                 modulefinder        stringold\n",
      "_MozillaCookieJar   code                mpmath              stringprep\n",
      "_OSA                codecs              msgpack             strop\n",
      "_Qd                 codeop              multifile           struct\n",
      "_Qdoffs             collections         multipledispatch    subprocess\n",
      "_Qt                 colorama            multiprocessing     subprocess32\n",
      "_Res                colorsys            mutex               sunau\n",
      "_Scrap              commands            navigator_updater   sunaudio\n",
      "_Snd                compileall          nbconvert           symbol\n",
      "_TE                 compiler            nbformat            sympy\n",
      "_Win                concurrent          netrc               sympyprinting\n",
      "__builtin__         conda               networkx            symtable\n",
      "__future__          conda_build         new                 sys\n",
      "_abcoll             conda_env           nis                 sysconfig\n",
      "_ast                conda_verify        nltk                syslog\n",
      "_bisect             configparser        nntplib             tables\n",
      "_builtinSuites      contextlib          nose                tabnanny\n",
      "_cffi_backend       contextlib2         notebook            tarfile\n",
      "_codecs             cookielib           ntpath              tblib\n",
      "_codecs_cn          copy                nturl2path          telnetlib\n",
      "_codecs_hk          copy_reg            numba               tempfile\n",
      "_codecs_iso2022     crypt               numbers             terminado\n",
      "_codecs_jp          cryptography        numexpr             terminalcommand\n",
      "_codecs_kr          csv                 numpy               termios\n",
      "_codecs_tw          ctypes              numpydoc            test\n",
      "_collections        curl                odo                 test_path\n",
      "_csv                curses              olefile             test_pycosat\n",
      "_ctypes             cycler              opcode              testpath\n",
      "_ctypes_test        cython              openpyxl            tests\n",
      "_curses             cythonmagic         operator            textwrap\n",
      "_curses_panel       cytoolz             optparse            this\n",
      "_elementtree        dask                os                  thread\n",
      "_functools          datashape           os2emxpath          threading\n",
      "_hashlib            datetime            osax                time\n",
      "_heapq              dateutil            packaging           timeit\n",
      "_hotshot            dbhash              pandas              tkColorChooser\n",
      "_io                 dbm                 pandocfilters       tkCommonDialog\n",
      "_json               decimal             parser              tkFileDialog\n",
      "_locale             decorator           parso               tkFont\n",
      "_lsprof             difflib             partd               tkMessageBox\n",
      "_multibytecodec     dircache            path                tkSimpleDialog\n",
      "_multiprocessing    dis                 pathlib2            tlz\n",
      "_osx_support        distributed         patsy               toaiff\n",
      "_portaudio          distutils           pdb                 token\n",
      "_posixsubprocess    doctest             pep8                tokenize\n",
      "_pyio               docutils            pexpect             toolz\n",
      "_pytest             dumbdbm             pickle              tornado\n",
      "_random             dummy_thread        pickleshare         trace\n",
      "_scandir            dummy_threading     pickletools         traceback\n",
      "_scproxy            easy_install        pimp                traitlets\n",
      "_socket             email               pip                 ttk\n",
      "_sqlite3            encodings           pipes               tty\n",
      "_sre                ensurepip           pkg_resources       turtle\n",
      "_ssl                entrypoints         pkginfo             types\n",
      "_strptime           enum                pkgutil             typing\n",
      "_struct             errno               platform            unicodecsv\n",
      "_symtable           et_xmlfile          plistlib            unicodedata\n",
      "_sysconfigdata      exceptions          pluggy              unittest\n",
      "_sysconfigdata_i686_conda_cos6_linux_gnu fastcache           ply                 urllib\n",
      "_sysconfigdata_powerpc64le_conda_cos7_linux_gnu fcntl               popen2              urllib2\n",
      "_sysconfigdata_x86_64_apple_darwin13_4_0 filecmp             poplib              urllib3\n",
      "_sysconfigdata_x86_64_conda_cos6_linux_gnu fileinput           posix               urlparse\n",
      "_testcapi           filelock            posixfile           user\n",
      "_threading_local    findertools         posixpath           uu\n",
      "_tkinter            flask               pprint              uuid\n",
      "_warnings           flask_cors          profile             videoreader\n",
      "_weakref            fnmatch             prompt_toolkit      warnings\n",
      "_weakrefset         formatter           pstats              wave\n",
      "_yaml               fpformat            psutil              wcwidth\n",
      "abc                 fractions           pty                 weakref\n",
      "aem                 ftplib              ptyprocess          webbrowser\n",
      "aepack              funcsigs            pwd                 webencodings\n",
      "aetools             functools           py                  werkzeug\n",
      "aetypes             functools32         py_compile          wheel\n",
      "aifc                future_builtins     pyaudio             whichdb\n",
      "ais                 gc                  pyclbr              widgetsnbextension\n",
      "alabaster           genericpath         pycodestyle         wrapt\n",
      "anaconda_navigator  gensuitemodule      pycosat             wsgiref\n",
      "anaconda_project    gestalt             pycparser           xdrlib\n",
      "antigravity         getopt              pycurl              xlrd\n",
      "anydbm              getpass             pydoc               xlsxwriter\n",
      "applesingle         gettext             pydoc_data          xlwings\n",
      "appletrawmain       gevent              pyexpat             xlwt\n",
      "appletrunner        glob                pyflakes            xml\n",
      "appnope             glob2               pygments            xmllib\n",
      "appscript           gmpy2               pylab               xmlrpclib\n",
      "argparse            greenlet            pylint              xxsubtype\n",
      "argvemulator        grin                pyodbc              yaml\n",
      "array               grp                 pyparsing           zict\n",
      "asn1crypto          gzip                pytest              zipfile\n",
      "ast                 h5py                pytz                zipimport\n",
      "astroid             hashlib             pywt                zlib\n",
      "astropy             heapdict            pyximport           zmq\n",
      "asynchat            heapq               qtawesome           \n",
      "\n",
      "Enter any module name to get more help.  Or, type \"modules spam\" to search\n",
      "for modules whose descriptions contain the word \"spam\".\n",
      "\n"
     ]
    }
   ],
   "source": [
    "help('modules')"
   ]
  },
  {
   "cell_type": "code",
   "execution_count": 3,
   "metadata": {
    "scrolled": false
   },
   "outputs": [
    {
     "name": "stdout",
     "output_type": "stream",
     "text": [
      "Collecting https://github.com/schwehr/libais\n",
      "\u001b[31mException:\n",
      "Traceback (most recent call last):\n",
      "  File \"/Library/Frameworks/Python.framework/Versions/2.7/lib/python2.7/site-packages/pip/basecommand.py\", line 215, in main\n",
      "    status = self.run(options, args)\n",
      "  File \"/Library/Frameworks/Python.framework/Versions/2.7/lib/python2.7/site-packages/pip/commands/install.py\", line 335, in run\n",
      "    wb.build(autobuilding=True)\n",
      "  File \"/Library/Frameworks/Python.framework/Versions/2.7/lib/python2.7/site-packages/pip/wheel.py\", line 749, in build\n",
      "    self.requirement_set.prepare_files(self.finder)\n",
      "  File \"/Library/Frameworks/Python.framework/Versions/2.7/lib/python2.7/site-packages/pip/req/req_set.py\", line 380, in prepare_files\n",
      "    ignore_dependencies=self.ignore_dependencies))\n",
      "  File \"/Library/Frameworks/Python.framework/Versions/2.7/lib/python2.7/site-packages/pip/req/req_set.py\", line 620, in _prepare_file\n",
      "    session=self.session, hashes=hashes)\n",
      "  File \"/Library/Frameworks/Python.framework/Versions/2.7/lib/python2.7/site-packages/pip/download.py\", line 821, in unpack_url\n",
      "    hashes=hashes\n",
      "  File \"/Library/Frameworks/Python.framework/Versions/2.7/lib/python2.7/site-packages/pip/download.py\", line 659, in unpack_http_url\n",
      "    hashes)\n",
      "  File \"/Library/Frameworks/Python.framework/Versions/2.7/lib/python2.7/site-packages/pip/download.py\", line 853, in _download_http_url\n",
      "    stream=True,\n",
      "  File \"/Library/Frameworks/Python.framework/Versions/2.7/lib/python2.7/site-packages/pip/_vendor/requests/sessions.py\", line 488, in get\n",
      "    return self.request('GET', url, **kwargs)\n",
      "  File \"/Library/Frameworks/Python.framework/Versions/2.7/lib/python2.7/site-packages/pip/download.py\", line 386, in request\n",
      "    return super(PipSession, self).request(method, url, *args, **kwargs)\n",
      "  File \"/Library/Frameworks/Python.framework/Versions/2.7/lib/python2.7/site-packages/pip/_vendor/requests/sessions.py\", line 475, in request\n",
      "    resp = self.send(prep, **send_kwargs)\n",
      "  File \"/Library/Frameworks/Python.framework/Versions/2.7/lib/python2.7/site-packages/pip/_vendor/requests/sessions.py\", line 596, in send\n",
      "    r = adapter.send(request, **kwargs)\n",
      "  File \"/Library/Frameworks/Python.framework/Versions/2.7/lib/python2.7/site-packages/pip/_vendor/cachecontrol/adapter.py\", line 47, in send\n",
      "    resp = super(CacheControlAdapter, self).send(request, **kw)\n",
      "  File \"/Library/Frameworks/Python.framework/Versions/2.7/lib/python2.7/site-packages/pip/_vendor/requests/adapters.py\", line 497, in send\n",
      "    raise SSLError(e, request=request)\n",
      "SSLError: [SSL: TLSV1_ALERT_PROTOCOL_VERSION] tlsv1 alert protocol version (_ssl.c:661)\u001b[0m\n",
      "\u001b[33mYou are using pip version 9.0.1, however version 9.0.3 is available.\n",
      "You should consider upgrading via the 'pip install --upgrade pip' command.\u001b[0m\n"
     ]
    }
   ],
   "source": []
  },
  {
   "cell_type": "code",
   "execution_count": 10,
   "metadata": {},
   "outputs": [
    {
     "name": "stdout",
     "output_type": "stream",
     "text": [
      "Fetching package metadata ...........\n",
      "\n",
      "PackageNotFoundError: Packages missing in current channels:\n",
      "            \n",
      "  - libais\n",
      "\n",
      "We have searched for the packages in the following channels:\n",
      "            \n",
      "  - https://repo.continuum.io/pkgs/main/osx-64\n",
      "  - https://repo.continuum.io/pkgs/main/noarch\n",
      "  - https://repo.continuum.io/pkgs/free/osx-64\n",
      "  - https://repo.continuum.io/pkgs/free/noarch\n",
      "  - https://repo.continuum.io/pkgs/r/osx-64\n",
      "  - https://repo.continuum.io/pkgs/r/noarch\n",
      "  - https://repo.continuum.io/pkgs/pro/osx-64\n",
      "  - https://repo.continuum.io/pkgs/pro/noarch\n",
      "            \n",
      "\n"
     ]
    }
   ],
   "source": []
  },
  {
   "cell_type": "code",
   "execution_count": 4,
   "metadata": {},
   "outputs": [
    {
     "name": "stdout",
     "output_type": "stream",
     "text": [
      "Collecting libais-0.13\n",
      "\u001b[31m  Could not find a version that satisfies the requirement libais-0.13 (from versions: )\u001b[0m\n",
      "\u001b[31mNo matching distribution found for libais-0.13\u001b[0m\n",
      "\u001b[33mYou are using pip version 9.0.1, however version 9.0.3 is available.\n",
      "You should consider upgrading via the 'pip install --upgrade pip' command.\u001b[0m\n"
     ]
    }
   ],
   "source": [
    "!pip install libais-0.13"
   ]
  },
  {
   "cell_type": "code",
   "execution_count": 2,
   "metadata": {},
   "outputs": [
    {
     "name": "stdout",
     "output_type": "stream",
     "text": [
      "/bin/sh: pip: command not found\r\n"
     ]
    }
   ],
   "source": [
    "!pip install libais"
   ]
  },
  {
   "cell_type": "code",
   "execution_count": null,
   "metadata": {},
   "outputs": [],
   "source": []
  }
 ],
 "metadata": {
  "kernelspec": {
   "display_name": "Python 3",
   "language": "python",
   "name": "python3"
  },
  "language_info": {
   "codemirror_mode": {
    "name": "ipython",
    "version": 2
   },
   "file_extension": ".py",
   "mimetype": "text/x-python",
   "name": "python",
   "nbconvert_exporter": "python",
   "pygments_lexer": "ipython2",
   "version": "2.7.14"
  }
 },
 "nbformat": 4,
 "nbformat_minor": 2
}
