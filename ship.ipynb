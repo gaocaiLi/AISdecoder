{
 "cells": [
  {
   "cell_type": "code",
   "execution_count": 8,
   "metadata": {},
   "outputs": [
    {
     "name": "stdout",
     "output_type": "stream",
     "text": [
      "Processing ./libais-0.13.tar.gz\n",
      "  Requirement already satisfied (use --upgrade to upgrade): libais==0.13 from file:///Users/ninastijepovic/Desktop/SHIPS/libais-0.13.tar.gz in /Users/ninastijepovic/anaconda2/lib/python2.7/site-packages\n",
      "Building wheels for collected packages: libais\n",
      "  Running setup.py bdist_wheel for libais ... \u001b[?25ldone\n",
      "\u001b[?25h  Stored in directory: /Users/ninastijepovic/Library/Caches/pip/wheels/9c/b7/82/918858ae0a2c2f3e898de59a5dd3e68335ed6a324aa45b2bcc\n",
      "Successfully built libais\n",
      "\u001b[33mYou are using pip version 9.0.1, however version 9.0.3 is available.\n",
      "You should consider upgrading via the 'pip install --upgrade pip' command.\u001b[0m\n"
     ]
    }
   ],
   "source": [
    "!pip install ./libais-0.13.tar.gz"
   ]
  },
  {
   "cell_type": "code",
   "execution_count": 10,
   "metadata": {},
   "outputs": [
    {
     "data": {
      "text/plain": [
       "{u'cog': 86.0,\n",
       " u'id': 1L,\n",
       " u'mmsi': 369515000L,\n",
       " u'nav_status': 7L,\n",
       " u'position_accuracy': 0L,\n",
       " u'raim': False,\n",
       " u'received_stations': 25L,\n",
       " u'repeat_indicator': 0L,\n",
       " u'rot': -731.386474609375,\n",
       " u'rot_over_range': True,\n",
       " u'slot_timeout': 7L,\n",
       " u'sog': 0.0,\n",
       " u'spare': 0L,\n",
       " u'special_manoeuvre': 0L,\n",
       " u'sync_state': 1L,\n",
       " u'timestamp': 41L,\n",
       " u'true_heading': 511L,\n",
       " u'x': -166.51214599609375,\n",
       " u'y': 53.90443420410156}"
      ]
     },
     "execution_count": 10,
     "metadata": {},
     "output_type": "execute_result"
    }
   ],
   "source": [
    "import ais\n",
    "ais.decode('15PIIv7P00D5i9HNn2Q3G?wB0t0I', 0)"
   ]
  },
  {
   "cell_type": "code",
   "execution_count": null,
   "metadata": {},
   "outputs": [],
   "source": []
  }
 ],
 "metadata": {
  "kernelspec": {
   "display_name": "Python 3",
   "language": "python",
   "name": "python3"
  },
  "language_info": {
   "codemirror_mode": {
    "name": "ipython",
    "version": 2
   },
   "file_extension": ".py",
   "mimetype": "text/x-python",
   "name": "python",
   "nbconvert_exporter": "python",
   "pygments_lexer": "ipython2",
   "version": "2.7.14"
  }
 },
 "nbformat": 4,
 "nbformat_minor": 2
}
