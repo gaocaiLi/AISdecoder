{
 "cells": [
  {
   "cell_type": "code",
   "execution_count": 2,
   "metadata": {},
   "outputs": [],
   "source": [
    "import pip"
   ]
  },
  {
   "cell_type": "code",
   "execution_count": 3,
   "metadata": {
    "scrolled": false
   },
   "outputs": [
    {
     "name": "stdout",
     "output_type": "stream",
     "text": [
      "Processing c:\\users\\marta\\documents\\bachelorproject\\libais-0.13\n",
      "  Requirement already satisfied (use --upgrade to upgrade): libais==0.13 from file:///C:/Users/Marta/Documents/BachelorProject/libais-0.13 in c:\\users\\marta\\anaconda2\\lib\\site-packages\n",
      "Building wheels for collected packages: libais\n",
      "  Running setup.py bdist_wheel for libais: started\n",
      "  Running setup.py bdist_wheel for libais: finished with status 'done'\n",
      "  Stored in directory: C:\\Users\\Marta\\AppData\\Local\\pip\\Cache\\wheels\\09\\25\\02\\16b3a804f616013e9a4423433dce4f7792f1817591e41866ea\n",
      "Successfully built libais\n"
     ]
    }
   ],
   "source": [
    "!pip install ./libais-0.13"
   ]
  },
  {
   "cell_type": "code",
   "execution_count": 3,
   "metadata": {},
   "outputs": [
    {
     "data": {
      "text/plain": [
       "{u'cog': 86.0,\n",
       " u'id': 1L,\n",
       " u'mmsi': 369515000L,\n",
       " u'nav_status': 7L,\n",
       " u'position_accuracy': 0L,\n",
       " u'raim': False,\n",
       " u'received_stations': 25L,\n",
       " u'repeat_indicator': 0L,\n",
       " u'rot': -731.386474609375,\n",
       " u'rot_over_range': True,\n",
       " u'slot_timeout': 7L,\n",
       " u'sog': 0.0,\n",
       " u'spare': 0L,\n",
       " u'special_manoeuvre': 0L,\n",
       " u'sync_state': 1L,\n",
       " u'timestamp': 41L,\n",
       " u'true_heading': 511L,\n",
       " u'x': -166.51214599609375,\n",
       " u'y': 53.90443420410156}"
      ]
     },
     "execution_count": 3,
     "metadata": {},
     "output_type": "execute_result"
    }
   ],
   "source": [
    "import ais\n",
    "ais.decode('15PIIv7P00D5i9HNn2Q3G?wB0t0I', 0)"
   ]
  },
  {
   "cell_type": "code",
   "execution_count": 4,
   "metadata": {},
   "outputs": [],
   "source": [
    "import gzip"
   ]
  },
  {
   "cell_type": "code",
   "execution_count": 10,
   "metadata": {},
   "outputs": [
    {
     "name": "stdout",
     "output_type": "stream",
     "text": [
      "number of lines:  79283\n",
      "number of not time stamps:  74025\n",
      "number of time stamps:  5258\n"
     ]
    }
   ],
   "source": [
    "count_lines = 0\n",
    "parse_sign = \"!\"\n",
    "\n",
    "not_time_stamp = 0\n",
    "count_time_stamps = 0\n",
    "\n",
    "with gzip.open('./ais-10-10/23-59.txt.gz', 'rb') as f:\n",
    "    for line in f:\n",
    "        count_lines += 1\n",
    "        if line.startswith(parse_sign):\n",
    "            not_time_stamp += 1\n",
    "        \n",
    "        #print('got line', line)\n",
    "\n",
    "count_time_stamps =  count_lines - not_time_stamp\n",
    "print \"number of lines: \", count_lines\n",
    "print \"number of not time stamps: \", not_time_stamp\n",
    "print \"number of time stamps: \", count_time_stamps"
   ]
  },
  {
   "cell_type": "code",
   "execution_count": null,
   "metadata": {},
   "outputs": [],
   "source": [
    "\n"
   ]
  },
  {
   "cell_type": "code",
   "execution_count": null,
   "metadata": {},
   "outputs": [],
   "source": []
  }
 ],
 "metadata": {
  "anaconda-cloud": {},
  "kernelspec": {
   "display_name": "Python 2",
   "language": "python",
   "name": "python2"
  },
  "language_info": {
   "codemirror_mode": {
    "name": "ipython",
    "version": 2
   },
   "file_extension": ".py",
   "mimetype": "text/x-python",
   "name": "python",
   "nbconvert_exporter": "python",
   "pygments_lexer": "ipython2",
   "version": "2.7.14"
  }
 },
 "nbformat": 4,
 "nbformat_minor": 1
}
